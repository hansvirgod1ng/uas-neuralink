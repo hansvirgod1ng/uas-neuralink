{
 "cells": [
  {
   "cell_type": "markdown",
   "id": "b8ab0601",
   "metadata": {},
   "source": [
    "# IMPORT DATA"
   ]
  },
  {
   "cell_type": "code",
   "execution_count": 1,
   "id": "2ff27182",
   "metadata": {},
   "outputs": [],
   "source": [
    "import numpy as np\n",
    "import pandas as pd\n",
    "import matplotlib.pyplot as plt"
   ]
  },
  {
   "cell_type": "code",
   "execution_count": 2,
   "id": "ec574398",
   "metadata": {},
   "outputs": [],
   "source": [
    "df = pd.read_csv('Data.csv')"
   ]
  },
  {
   "cell_type": "code",
   "execution_count": 3,
   "id": "bd46b5b5",
   "metadata": {},
   "outputs": [
    {
     "data": {
      "text/html": [
       "<div>\n",
       "<style scoped>\n",
       "    .dataframe tbody tr th:only-of-type {\n",
       "        vertical-align: middle;\n",
       "    }\n",
       "\n",
       "    .dataframe tbody tr th {\n",
       "        vertical-align: top;\n",
       "    }\n",
       "\n",
       "    .dataframe thead th {\n",
       "        text-align: right;\n",
       "    }\n",
       "</style>\n",
       "<table border=\"1\" class=\"dataframe\">\n",
       "  <thead>\n",
       "    <tr style=\"text-align: right;\">\n",
       "      <th></th>\n",
       "      <th>Company</th>\n",
       "      <th>Type</th>\n",
       "      <th>Inches</th>\n",
       "      <th>CPU</th>\n",
       "      <th>Generation</th>\n",
       "      <th>RAM</th>\n",
       "      <th>Memory</th>\n",
       "      <th>GPU</th>\n",
       "      <th>OS</th>\n",
       "      <th>Weight</th>\n",
       "      <th>Price</th>\n",
       "    </tr>\n",
       "  </thead>\n",
       "  <tbody>\n",
       "    <tr>\n",
       "      <th>0</th>\n",
       "      <td>Hp</td>\n",
       "      <td>Ultrabook</td>\n",
       "      <td>14</td>\n",
       "      <td>Core i5</td>\n",
       "      <td>4</td>\n",
       "      <td>8GB</td>\n",
       "      <td>500GB HDD</td>\n",
       "      <td>Nvidia</td>\n",
       "      <td>Windows 8</td>\n",
       "      <td>2kg</td>\n",
       "      <td>2300000</td>\n",
       "    </tr>\n",
       "    <tr>\n",
       "      <th>1</th>\n",
       "      <td>Hp</td>\n",
       "      <td>Ultrabook</td>\n",
       "      <td>14</td>\n",
       "      <td>Core i7</td>\n",
       "      <td>1</td>\n",
       "      <td>4GB</td>\n",
       "      <td>500GB HDD</td>\n",
       "      <td>Intel</td>\n",
       "      <td>Windows 10</td>\n",
       "      <td>2kg</td>\n",
       "      <td>1200000</td>\n",
       "    </tr>\n",
       "    <tr>\n",
       "      <th>2</th>\n",
       "      <td>Hp</td>\n",
       "      <td>2 in 1</td>\n",
       "      <td>14</td>\n",
       "      <td>Core i7</td>\n",
       "      <td>8</td>\n",
       "      <td>8GB</td>\n",
       "      <td>500GB SSD</td>\n",
       "      <td>Nvidia</td>\n",
       "      <td>Windows 10</td>\n",
       "      <td>2kg</td>\n",
       "      <td>3800000</td>\n",
       "    </tr>\n",
       "    <tr>\n",
       "      <th>3</th>\n",
       "      <td>Hp</td>\n",
       "      <td>Gaming</td>\n",
       "      <td>15</td>\n",
       "      <td>Core i7</td>\n",
       "      <td>7</td>\n",
       "      <td>16GB</td>\n",
       "      <td>256GB SSD</td>\n",
       "      <td>Intel + Nvidia GTX</td>\n",
       "      <td>Windows 10</td>\n",
       "      <td>4kg</td>\n",
       "      <td>6000000</td>\n",
       "    </tr>\n",
       "    <tr>\n",
       "      <th>4</th>\n",
       "      <td>Acer</td>\n",
       "      <td>Workstation</td>\n",
       "      <td>15</td>\n",
       "      <td>Core i7</td>\n",
       "      <td>3</td>\n",
       "      <td>8GB</td>\n",
       "      <td>256GB SSD</td>\n",
       "      <td>Intel + Nvidia</td>\n",
       "      <td>Windows 10</td>\n",
       "      <td>3kg</td>\n",
       "      <td>2800000</td>\n",
       "    </tr>\n",
       "    <tr>\n",
       "      <th>...</th>\n",
       "      <td>...</td>\n",
       "      <td>...</td>\n",
       "      <td>...</td>\n",
       "      <td>...</td>\n",
       "      <td>...</td>\n",
       "      <td>...</td>\n",
       "      <td>...</td>\n",
       "      <td>...</td>\n",
       "      <td>...</td>\n",
       "      <td>...</td>\n",
       "      <td>...</td>\n",
       "    </tr>\n",
       "    <tr>\n",
       "      <th>296</th>\n",
       "      <td>Thinkpad</td>\n",
       "      <td>Workstation</td>\n",
       "      <td>14</td>\n",
       "      <td>Core i5</td>\n",
       "      <td>8</td>\n",
       "      <td>8GB</td>\n",
       "      <td>256GB SSD</td>\n",
       "      <td>Intel</td>\n",
       "      <td>Windows 11</td>\n",
       "      <td>2kg</td>\n",
       "      <td>3250000</td>\n",
       "    </tr>\n",
       "    <tr>\n",
       "      <th>297</th>\n",
       "      <td>Asus</td>\n",
       "      <td>Ultrabook</td>\n",
       "      <td>14</td>\n",
       "      <td>Core i7</td>\n",
       "      <td>8</td>\n",
       "      <td>8GB</td>\n",
       "      <td>256GB SSD</td>\n",
       "      <td>Intel</td>\n",
       "      <td>Windows 11</td>\n",
       "      <td>2kg</td>\n",
       "      <td>4150000</td>\n",
       "    </tr>\n",
       "    <tr>\n",
       "      <th>298</th>\n",
       "      <td>Asus</td>\n",
       "      <td>Workstation</td>\n",
       "      <td>14</td>\n",
       "      <td>Core i5</td>\n",
       "      <td>8</td>\n",
       "      <td>8GB</td>\n",
       "      <td>256GB SSD</td>\n",
       "      <td>Intel + Nvidia</td>\n",
       "      <td>Windows 11</td>\n",
       "      <td>2kg</td>\n",
       "      <td>4500000</td>\n",
       "    </tr>\n",
       "    <tr>\n",
       "      <th>299</th>\n",
       "      <td>Lenovo</td>\n",
       "      <td>Gaming</td>\n",
       "      <td>14</td>\n",
       "      <td>Core i7</td>\n",
       "      <td>4</td>\n",
       "      <td>8GB</td>\n",
       "      <td>256GB SSD</td>\n",
       "      <td>Intel + Nvidia GTX</td>\n",
       "      <td>Windows 10</td>\n",
       "      <td>2kg</td>\n",
       "      <td>4000000</td>\n",
       "    </tr>\n",
       "    <tr>\n",
       "      <th>300</th>\n",
       "      <td>Lenovo</td>\n",
       "      <td>Gaming</td>\n",
       "      <td>14</td>\n",
       "      <td>Core i7</td>\n",
       "      <td>7</td>\n",
       "      <td>8GB</td>\n",
       "      <td>256GB SSD</td>\n",
       "      <td>Intel + Nvidia GTX</td>\n",
       "      <td>Windows 10</td>\n",
       "      <td>3kg</td>\n",
       "      <td>5800000</td>\n",
       "    </tr>\n",
       "  </tbody>\n",
       "</table>\n",
       "<p>301 rows × 11 columns</p>\n",
       "</div>"
      ],
      "text/plain": [
       "      Company         Type  Inches      CPU  Generation   RAM     Memory  \\\n",
       "0          Hp    Ultrabook      14  Core i5           4   8GB  500GB HDD   \n",
       "1          Hp    Ultrabook      14  Core i7           1   4GB  500GB HDD   \n",
       "2          Hp       2 in 1      14  Core i7           8   8GB  500GB SSD   \n",
       "3          Hp       Gaming      15  Core i7           7  16GB  256GB SSD   \n",
       "4        Acer  Workstation      15  Core i7           3   8GB  256GB SSD   \n",
       "..        ...          ...     ...      ...         ...   ...        ...   \n",
       "296  Thinkpad  Workstation      14  Core i5           8   8GB  256GB SSD   \n",
       "297      Asus    Ultrabook      14  Core i7           8   8GB  256GB SSD   \n",
       "298      Asus  Workstation      14  Core i5           8   8GB  256GB SSD   \n",
       "299    Lenovo       Gaming      14  Core i7           4   8GB  256GB SSD   \n",
       "300    Lenovo       Gaming      14  Core i7           7   8GB  256GB SSD   \n",
       "\n",
       "                    GPU          OS Weight    Price  \n",
       "0                Nvidia   Windows 8    2kg  2300000  \n",
       "1                 Intel  Windows 10    2kg  1200000  \n",
       "2                Nvidia  Windows 10    2kg  3800000  \n",
       "3    Intel + Nvidia GTX  Windows 10    4kg  6000000  \n",
       "4        Intel + Nvidia  Windows 10    3kg  2800000  \n",
       "..                  ...         ...    ...      ...  \n",
       "296               Intel  Windows 11    2kg  3250000  \n",
       "297               Intel  Windows 11    2kg  4150000  \n",
       "298      Intel + Nvidia  Windows 11    2kg  4500000  \n",
       "299  Intel + Nvidia GTX  Windows 10    2kg  4000000  \n",
       "300  Intel + Nvidia GTX  Windows 10    3kg  5800000  \n",
       "\n",
       "[301 rows x 11 columns]"
      ]
     },
     "execution_count": 3,
     "metadata": {},
     "output_type": "execute_result"
    }
   ],
   "source": [
    "df"
   ]
  },
  {
   "cell_type": "code",
   "execution_count": 4,
   "id": "ff588a0f",
   "metadata": {},
   "outputs": [
    {
     "data": {
      "text/plain": [
       "(301, 11)"
      ]
     },
     "execution_count": 4,
     "metadata": {},
     "output_type": "execute_result"
    }
   ],
   "source": [
    "df.shape"
   ]
  },
  {
   "cell_type": "code",
   "execution_count": 5,
   "id": "3cb904f4",
   "metadata": {
    "scrolled": true
   },
   "outputs": [
    {
     "data": {
      "text/plain": [
       "0      False\n",
       "1      False\n",
       "2      False\n",
       "3      False\n",
       "4      False\n",
       "       ...  \n",
       "296    False\n",
       "297    False\n",
       "298    False\n",
       "299    False\n",
       "300    False\n",
       "Length: 301, dtype: bool"
      ]
     },
     "execution_count": 5,
     "metadata": {},
     "output_type": "execute_result"
    }
   ],
   "source": [
    "df.duplicated()"
   ]
  },
  {
   "cell_type": "code",
   "execution_count": 6,
   "id": "0287ba10",
   "metadata": {},
   "outputs": [
    {
     "name": "stdout",
     "output_type": "stream",
     "text": [
      "Jumlah data yang duplikat:0\n"
     ]
    }
   ],
   "source": [
    "print(\"Jumlah data yang duplikat:\" + str(df.duplicated().sum()))"
   ]
  },
  {
   "cell_type": "code",
   "execution_count": 7,
   "id": "5f7ce3b2",
   "metadata": {},
   "outputs": [
    {
     "name": "stdout",
     "output_type": "stream",
     "text": [
      "<class 'pandas.core.frame.DataFrame'>\n",
      "RangeIndex: 301 entries, 0 to 300\n",
      "Data columns (total 11 columns):\n",
      " #   Column      Non-Null Count  Dtype \n",
      "---  ------      --------------  ----- \n",
      " 0   Company     301 non-null    object\n",
      " 1   Type        301 non-null    object\n",
      " 2   Inches      301 non-null    int64 \n",
      " 3   CPU         301 non-null    object\n",
      " 4   Generation  301 non-null    int64 \n",
      " 5   RAM         301 non-null    object\n",
      " 6   Memory      301 non-null    object\n",
      " 7   GPU         301 non-null    object\n",
      " 8   OS          301 non-null    object\n",
      " 9   Weight      301 non-null    object\n",
      " 10  Price       301 non-null    int64 \n",
      "dtypes: int64(3), object(8)\n",
      "memory usage: 26.0+ KB\n"
     ]
    }
   ],
   "source": [
    "df.info()"
   ]
  },
  {
   "cell_type": "code",
   "execution_count": 8,
   "id": "0561550d",
   "metadata": {},
   "outputs": [],
   "source": [
    "df['RAM'] = df['RAM'].str.replace('GB','')\n",
    "df['Weight'] = df['Weight'].str.replace('kg','')"
   ]
  },
  {
   "cell_type": "code",
   "execution_count": 9,
   "id": "97efc070",
   "metadata": {},
   "outputs": [
    {
     "data": {
      "text/html": [
       "<div>\n",
       "<style scoped>\n",
       "    .dataframe tbody tr th:only-of-type {\n",
       "        vertical-align: middle;\n",
       "    }\n",
       "\n",
       "    .dataframe tbody tr th {\n",
       "        vertical-align: top;\n",
       "    }\n",
       "\n",
       "    .dataframe thead th {\n",
       "        text-align: right;\n",
       "    }\n",
       "</style>\n",
       "<table border=\"1\" class=\"dataframe\">\n",
       "  <thead>\n",
       "    <tr style=\"text-align: right;\">\n",
       "      <th></th>\n",
       "      <th>Company</th>\n",
       "      <th>Type</th>\n",
       "      <th>Inches</th>\n",
       "      <th>CPU</th>\n",
       "      <th>Generation</th>\n",
       "      <th>RAM</th>\n",
       "      <th>Memory</th>\n",
       "      <th>GPU</th>\n",
       "      <th>OS</th>\n",
       "      <th>Weight</th>\n",
       "      <th>Price</th>\n",
       "    </tr>\n",
       "  </thead>\n",
       "  <tbody>\n",
       "    <tr>\n",
       "      <th>0</th>\n",
       "      <td>Hp</td>\n",
       "      <td>Ultrabook</td>\n",
       "      <td>14</td>\n",
       "      <td>Core i5</td>\n",
       "      <td>4</td>\n",
       "      <td>8</td>\n",
       "      <td>500GB HDD</td>\n",
       "      <td>Nvidia</td>\n",
       "      <td>Windows 8</td>\n",
       "      <td>2</td>\n",
       "      <td>2300000</td>\n",
       "    </tr>\n",
       "    <tr>\n",
       "      <th>1</th>\n",
       "      <td>Hp</td>\n",
       "      <td>Ultrabook</td>\n",
       "      <td>14</td>\n",
       "      <td>Core i7</td>\n",
       "      <td>1</td>\n",
       "      <td>4</td>\n",
       "      <td>500GB HDD</td>\n",
       "      <td>Intel</td>\n",
       "      <td>Windows 10</td>\n",
       "      <td>2</td>\n",
       "      <td>1200000</td>\n",
       "    </tr>\n",
       "    <tr>\n",
       "      <th>2</th>\n",
       "      <td>Hp</td>\n",
       "      <td>2 in 1</td>\n",
       "      <td>14</td>\n",
       "      <td>Core i7</td>\n",
       "      <td>8</td>\n",
       "      <td>8</td>\n",
       "      <td>500GB SSD</td>\n",
       "      <td>Nvidia</td>\n",
       "      <td>Windows 10</td>\n",
       "      <td>2</td>\n",
       "      <td>3800000</td>\n",
       "    </tr>\n",
       "    <tr>\n",
       "      <th>3</th>\n",
       "      <td>Hp</td>\n",
       "      <td>Gaming</td>\n",
       "      <td>15</td>\n",
       "      <td>Core i7</td>\n",
       "      <td>7</td>\n",
       "      <td>16</td>\n",
       "      <td>256GB SSD</td>\n",
       "      <td>Intel + Nvidia GTX</td>\n",
       "      <td>Windows 10</td>\n",
       "      <td>4</td>\n",
       "      <td>6000000</td>\n",
       "    </tr>\n",
       "    <tr>\n",
       "      <th>4</th>\n",
       "      <td>Acer</td>\n",
       "      <td>Workstation</td>\n",
       "      <td>15</td>\n",
       "      <td>Core i7</td>\n",
       "      <td>3</td>\n",
       "      <td>8</td>\n",
       "      <td>256GB SSD</td>\n",
       "      <td>Intel + Nvidia</td>\n",
       "      <td>Windows 10</td>\n",
       "      <td>3</td>\n",
       "      <td>2800000</td>\n",
       "    </tr>\n",
       "  </tbody>\n",
       "</table>\n",
       "</div>"
      ],
      "text/plain": [
       "  Company         Type  Inches      CPU  Generation RAM     Memory  \\\n",
       "0      Hp    Ultrabook      14  Core i5           4   8  500GB HDD   \n",
       "1      Hp    Ultrabook      14  Core i7           1   4  500GB HDD   \n",
       "2      Hp       2 in 1      14  Core i7           8   8  500GB SSD   \n",
       "3      Hp       Gaming      15  Core i7           7  16  256GB SSD   \n",
       "4    Acer  Workstation      15  Core i7           3   8  256GB SSD   \n",
       "\n",
       "                  GPU          OS Weight    Price  \n",
       "0              Nvidia   Windows 8      2  2300000  \n",
       "1               Intel  Windows 10      2  1200000  \n",
       "2              Nvidia  Windows 10      2  3800000  \n",
       "3  Intel + Nvidia GTX  Windows 10      4  6000000  \n",
       "4      Intel + Nvidia  Windows 10      3  2800000  "
      ]
     },
     "execution_count": 9,
     "metadata": {},
     "output_type": "execute_result"
    }
   ],
   "source": [
    "df.head()"
   ]
  },
  {
   "cell_type": "code",
   "execution_count": 10,
   "id": "4b3a088f",
   "metadata": {},
   "outputs": [],
   "source": [
    "df['RAM'] = df['RAM'].astype('int32')\n",
    "df['Weight'] = df['Weight'].astype('float32')\n",
    "df['Price'] = df['Price'].astype('float32')"
   ]
  },
  {
   "cell_type": "code",
   "execution_count": 11,
   "id": "1fb14399",
   "metadata": {},
   "outputs": [
    {
     "name": "stdout",
     "output_type": "stream",
     "text": [
      "<class 'pandas.core.frame.DataFrame'>\n",
      "RangeIndex: 301 entries, 0 to 300\n",
      "Data columns (total 11 columns):\n",
      " #   Column      Non-Null Count  Dtype  \n",
      "---  ------      --------------  -----  \n",
      " 0   Company     301 non-null    object \n",
      " 1   Type        301 non-null    object \n",
      " 2   Inches      301 non-null    int64  \n",
      " 3   CPU         301 non-null    object \n",
      " 4   Generation  301 non-null    int64  \n",
      " 5   RAM         301 non-null    int32  \n",
      " 6   Memory      301 non-null    object \n",
      " 7   GPU         301 non-null    object \n",
      " 8   OS          301 non-null    object \n",
      " 9   Weight      301 non-null    float32\n",
      " 10  Price       301 non-null    float32\n",
      "dtypes: float32(2), int32(1), int64(2), object(6)\n",
      "memory usage: 22.5+ KB\n"
     ]
    }
   ],
   "source": [
    "df.info()"
   ]
  },
  {
   "cell_type": "markdown",
   "id": "b83518d9",
   "metadata": {},
   "source": [
    "# EDA & DATA CLEANING"
   ]
  },
  {
   "cell_type": "code",
   "execution_count": 12,
   "id": "3da42aeb",
   "metadata": {},
   "outputs": [],
   "source": [
    "import seaborn as sns"
   ]
  },
  {
   "cell_type": "code",
   "execution_count": 13,
   "id": "4faa39b0",
   "metadata": {},
   "outputs": [
    {
     "name": "stderr",
     "output_type": "stream",
     "text": [
      "C:\\Users\\a208\\Anaconda3\\lib\\site-packages\\seaborn\\distributions.py:2619: FutureWarning: `distplot` is a deprecated function and will be removed in a future version. Please adapt your code to use either `displot` (a figure-level function with similar flexibility) or `histplot` (an axes-level function for histograms).\n",
      "  warnings.warn(msg, FutureWarning)\n"
     ]
    },
    {
     "data": {
      "text/plain": [
       "<AxesSubplot:xlabel='Price', ylabel='Density'>"
      ]
     },
     "execution_count": 13,
     "metadata": {},
     "output_type": "execute_result"
    },
    {
     "data": {
      "image/png": "[encoded data removed]",
      "text/plain": [
       "<Figure size 432x288 with 1 Axes>"
      ]
     },
     "metadata": {
      "needs_background": "light"
     },
     "output_type": "display_data"
    }
   ],
   "source": [
    "sns.distplot(df['Price'])"
   ]
  },
  {
   "cell_type": "code",
   "execution_count": 14,
   "id": "75beb7e8",
   "metadata": {},
   "outputs": [
    {
     "data": {
      "text/plain": [
       "<AxesSubplot:>"
      ]
     },
     "execution_count": 14,
     "metadata": {},
     "output_type": "execute_result"
    },
    {
     "data": {
      "image/png": "[encoded data removed]",
      "text/plain": [
       "<Figure size 432x288 with 1 Axes>"
      ]
     },
     "metadata": {
      "needs_background": "light"
     },
     "output_type": "display_data"
    }
   ],
   "source": [
    "df['Company'].value_counts().plot(kind='bar')"
   ]
  },
  {
   "cell_type": "code",
   "execution_count": 15,
   "id": "7843f580",
   "metadata": {},
   "outputs": [
    {
     "data": {
      "image/png": "[encoded data removed]",
      "text/plain": [
       "<Figure size 432x288 with 1 Axes>"
      ]
     },
     "metadata": {
      "needs_background": "light"
     },
     "output_type": "display_data"
    }
   ],
   "source": [
    "sns.barplot(x=df['Company'],y=df['Price'])\n",
    "plt.xticks(rotation='vertical')\n",
    "plt.show()"
   ]
  },
  {
   "cell_type": "code",
   "execution_count": 16,
   "id": "1f8cbcc8",
   "metadata": {},
   "outputs": [
    {
     "data": {
      "text/plain": [
       "<AxesSubplot:>"
      ]
     },
     "execution_count": 16,
     "metadata": {},
     "output_type": "execute_result"
    },
    {
     "data": {
      "image/png": "[encoded data removed]",
      "text/plain": [
       "<Figure size 432x288 with 1 Axes>"
      ]
     },
     "metadata": {
      "needs_background": "light"
     },
     "output_type": "display_data"
    }
   ],
   "source": [
    "df['Type'].value_counts().plot(kind='bar')"
   ]
  },
  {
   "cell_type": "code",
   "execution_count": 17,
   "id": "5688032a",
   "metadata": {},
   "outputs": [
    {
     "data": {
      "image/png": "[encoded data removed]",
      "text/plain": [
       "<Figure size 432x288 with 1 Axes>"
      ]
     },
     "metadata": {
      "needs_background": "light"
     },
     "output_type": "display_data"
    }
   ],
   "source": [
    "sns.barplot(x=df['Type'],y=df['Price'])\n",
    "plt.xticks(rotation='vertical')\n",
    "plt.show()"
   ]
  },
  {
   "cell_type": "code",
   "execution_count": 18,
   "id": "4ab0bc66",
   "metadata": {},
   "outputs": [
    {
     "name": "stderr",
     "output_type": "stream",
     "text": [
      "C:\\Users\\a208\\Anaconda3\\lib\\site-packages\\seaborn\\distributions.py:2619: FutureWarning: `distplot` is a deprecated function and will be removed in a future version. Please adapt your code to use either `displot` (a figure-level function with similar flexibility) or `histplot` (an axes-level function for histograms).\n",
      "  warnings.warn(msg, FutureWarning)\n"
     ]
    },
    {
     "data": {
      "text/plain": [
       "<AxesSubplot:xlabel='Inches', ylabel='Density'>"
      ]
     },
     "execution_count": 18,
     "metadata": {},
     "output_type": "execute_result"
    },
    {
     "data": {
      "image/png": "[encoded data removed]",
      "text/plain": [
       "<Figure size 432x288 with 1 Axes>"
      ]
     },
     "metadata": {
      "needs_background": "light"
     },
     "output_type": "display_data"
    }
   ],
   "source": [
    "sns.distplot(df['Inches'])"
   ]
  },
  {
   "cell_type": "code",
   "execution_count": 19,
   "id": "ce93bfe6",
   "metadata": {},
   "outputs": [
    {
     "data": {
      "text/plain": [
       "<AxesSubplot:xlabel='Inches', ylabel='Price'>"
      ]
     },
     "execution_count": 19,
     "metadata": {},
     "output_type": "execute_result"
    },
    {
     "data": {
      "image/png": "[encoded data removed]",
      "text/plain": [
       "<Figure size 432x288 with 1 Axes>"
      ]
     },
     "metadata": {
      "needs_background": "light"
     },
     "output_type": "display_data"
    }
   ],
   "source": [
    "sns.scatterplot(x=df['Inches'],y=df['Price'])"
   ]
  },
  {
   "cell_type": "code",
   "execution_count": 20,
   "id": "e6c0a234",
   "metadata": {},
   "outputs": [
    {
     "data": {
      "text/plain": [
       "<AxesSubplot:>"
      ]
     },
     "execution_count": 20,
     "metadata": {},
     "output_type": "execute_result"
    },
    {
     "data": {
      "image/png": "[encoded data removed]",
      "text/plain": [
       "<Figure size 432x288 with 1 Axes>"
      ]
     },
     "metadata": {
      "needs_background": "light"
     },
     "output_type": "display_data"
    }
   ],
   "source": [
    "df['CPU'].value_counts().plot(kind='bar')"
   ]
  },
  {
   "cell_type": "code",
   "execution_count": 21,
   "id": "5a29266f",
   "metadata": {},
   "outputs": [
    {
     "data": {
      "image/png": "[encoded data removed]",
      "text/plain": [
       "<Figure size 432x288 with 1 Axes>"
      ]
     },
     "metadata": {
      "needs_background": "light"
     },
     "output_type": "display_data"
    }
   ],
   "source": [
    "sns.barplot(x=df['CPU'],y=df['Price'])\n",
    "plt.xticks(rotation='vertical')\n",
    "plt.show()"
   ]
  },
  {
   "cell_type": "code",
   "execution_count": 22,
   "id": "e8638d45",
   "metadata": {},
   "outputs": [
    {
     "data": {
      "text/plain": [
       "<AxesSubplot:>"
      ]
     },
     "execution_count": 22,
     "metadata": {},
     "output_type": "execute_result"
    },
    {
     "data": {
      "image/png": "[encoded data removed]",
      "text/plain": [
       "<Figure size 432x288 with 1 Axes>"
      ]
     },
     "metadata": {
      "needs_background": "light"
     },
     "output_type": "display_data"
    }
   ],
   "source": [
    "df['Generation'].value_counts().plot(kind='bar')"
   ]
  },
  {
   "cell_type": "code",
   "execution_count": 23,
   "id": "f884b123",
   "metadata": {},
   "outputs": [
    {
     "data": {
      "image/png": "[encoded data removed]",
      "text/plain": [
       "<Figure size 432x288 with 1 Axes>"
      ]
     },
     "metadata": {
      "needs_background": "light"
     },
     "output_type": "display_data"
    }
   ],
   "source": [
    "sns.barplot(x=df['Generation'],y=df['Price'])\n",
    "plt.xticks(rotation='vertical')\n",
    "plt.show()"
   ]
  },
  {
   "cell_type": "code",
   "execution_count": 24,
   "id": "32c77541",
   "metadata": {},
   "outputs": [
    {
     "data": {
      "text/plain": [
       "<AxesSubplot:>"
      ]
     },
     "execution_count": 24,
     "metadata": {},
     "output_type": "execute_result"
    },
    {
     "data": {
      "image/png": "[encoded data removed]",
      "text/plain": [
       "<Figure size 432x288 with 1 Axes>"
      ]
     },
     "metadata": {
      "needs_background": "light"
     },
     "output_type": "display_data"
    }
   ],
   "source": [
    "df['RAM'].value_counts().plot(kind='bar')"
   ]
  },
  {
   "cell_type": "code",
   "execution_count": 25,
   "id": "67bb0b5d",
   "metadata": {},
   "outputs": [
    {
     "data": {
      "image/png": "[encoded data removed]",
      "text/plain": [
       "<Figure size 432x288 with 1 Axes>"
      ]
     },
     "metadata": {
      "needs_background": "light"
     },
     "output_type": "display_data"
    }
   ],
   "source": [
    "sns.barplot(x=df['RAM'],y=df['Price'])\n",
    "plt.xticks(rotation='vertical')\n",
    "plt.show()"
   ]
  },
  {
   "cell_type": "code",
   "execution_count": 26,
   "id": "fabad119",
   "metadata": {},
   "outputs": [
    {
     "data": {
      "text/plain": [
       "256GB SSD                 102\n",
       "128GB SSD                  41\n",
       "512GB SSD                  40\n",
       "500GB HDD                  37\n",
       "128GB SSD + 1000GB HDD     18\n",
       "256GB SSD + 1000GB HDD     13\n",
       "1000GB HDD                  8\n",
       "750GB HDD                   8\n",
       "320GB HDD                   6\n",
       "640GB HDD                   3\n",
       "240GB SSD                   3\n",
       "1000GB SSD                  3\n",
       "500GB SSD                   3\n",
       "512GB SSD + 1000GB HDD      3\n",
       "256GB SSD + 500GB HDD       2\n",
       "250GB SSD                   2\n",
       "750GB                       1\n",
       "500GB                       1\n",
       "500B HDD                    1\n",
       "128GB SSD + 750GB HDD       1\n",
       "128GB SSD + 320GB HDD       1\n",
       "256GB + 1000GB HDD          1\n",
       "120GB SSD                   1\n",
       "128GB SSD + 500GB HDD       1\n",
       "SSD 128GB + 1000GB HDD      1\n",
       "Name: Memory, dtype: int64"
      ]
     },
     "execution_count": 26,
     "metadata": {},
     "output_type": "execute_result"
    }
   ],
   "source": [
    "df['Memory'].value_counts()"
   ]
  },
  {
   "cell_type": "code",
   "execution_count": 27,
   "id": "06d65f7f",
   "metadata": {},
   "outputs": [
    {
     "name": "stderr",
     "output_type": "stream",
     "text": [
      "C:\\Users\\a208\\AppData\\Local\\Temp/ipykernel_2744/2579333588.py:14: FutureWarning: The default value of regex will change from True to False in a future version.\n",
      "  df['first'] = df['first'].str.replace(r'\\D', '')\n",
      "C:\\Users\\a208\\AppData\\Local\\Temp/ipykernel_2744/2579333588.py:21: FutureWarning: The default value of regex will change from True to False in a future version.\n",
      "  df['second'] = df['second'].str.replace(r'\\D', '')\n"
     ]
    }
   ],
   "source": [
    "df['Memory'] = df['Memory'].astype(str).replace('\\.0', '', regex=True)\n",
    "df[\"Memory\"] = df[\"Memory\"].str.replace('GB', '')\n",
    "df[\"Memory\"] = df[\"Memory\"].str.replace('TB', '000')\n",
    "new = df[\"Memory\"].str.split(\"+\", n = 1, expand = True)\n",
    "\n",
    "df[\"first\"]= new[0]\n",
    "df[\"first\"]=df[\"first\"].str.strip()\n",
    "\n",
    "df[\"second\"]= new[1]\n",
    "\n",
    "df[\"Layer1HDD\"] = df[\"first\"].apply(lambda x: 1 if \"HDD\" in x else 0)\n",
    "df[\"Layer1SSD\"] = df[\"first\"].apply(lambda x: 1 if \"SSD\" in x else 0)\n",
    "\n",
    "df['first'] = df['first'].str.replace(r'\\D', '')\n",
    "\n",
    "df[\"second\"].fillna(\"0\", inplace = True)\n",
    "\n",
    "df[\"Layer2HDD\"] = df[\"second\"].apply(lambda x: 1 if \"HDD\" in x else 0)\n",
    "df[\"Layer2SSD\"] = df[\"second\"].apply(lambda x: 1 if \"SSD\" in x else 0)\n",
    "\n",
    "df['second'] = df['second'].str.replace(r'\\D', '')\n",
    "\n",
    "df[\"first\"] = df[\"first\"].astype(int)\n",
    "df[\"second\"] = df[\"second\"].astype(int)\n",
    "\n",
    "df[\"HDD\"]=(df[\"first\"]*df[\"Layer1HDD\"]+df[\"second\"]*df[\"Layer2HDD\"])\n",
    "df[\"SSD\"]=(df[\"first\"]*df[\"Layer1SSD\"]+df[\"second\"]*df[\"Layer2SSD\"])\n",
    "\n",
    "df.drop(columns=['first', 'second', 'Layer1HDD', 'Layer1SSD', 'Layer2HDD', 'Layer2SSD'],inplace=True)"
   ]
  },
  {
   "cell_type": "code",
   "execution_count": 28,
   "id": "04a24f68",
   "metadata": {},
   "outputs": [
    {
     "data": {
      "text/html": [
       "<div>\n",
       "<style scoped>\n",
       "    .dataframe tbody tr th:only-of-type {\n",
       "        vertical-align: middle;\n",
       "    }\n",
       "\n",
       "    .dataframe tbody tr th {\n",
       "        vertical-align: top;\n",
       "    }\n",
       "\n",
       "    .dataframe thead th {\n",
       "        text-align: right;\n",
       "    }\n",
       "</style>\n",
       "<table border=\"1\" class=\"dataframe\">\n",
       "  <thead>\n",
       "    <tr style=\"text-align: right;\">\n",
       "      <th></th>\n",
       "      <th>Company</th>\n",
       "      <th>Type</th>\n",
       "      <th>Inches</th>\n",
       "      <th>CPU</th>\n",
       "      <th>Generation</th>\n",
       "      <th>RAM</th>\n",
       "      <th>Memory</th>\n",
       "      <th>GPU</th>\n",
       "      <th>OS</th>\n",
       "      <th>Weight</th>\n",
       "      <th>Price</th>\n",
       "      <th>HDD</th>\n",
       "      <th>SSD</th>\n",
       "    </tr>\n",
       "  </thead>\n",
       "  <tbody>\n",
       "    <tr>\n",
       "      <th>0</th>\n",
       "      <td>Hp</td>\n",
       "      <td>Ultrabook</td>\n",
       "      <td>14</td>\n",
       "      <td>Core i5</td>\n",
       "      <td>4</td>\n",
       "      <td>8</td>\n",
       "      <td>500 HDD</td>\n",
       "      <td>Nvidia</td>\n",
       "      <td>Windows 8</td>\n",
       "      <td>2.0</td>\n",
       "      <td>2300000.0</td>\n",
       "      <td>500</td>\n",
       "      <td>0</td>\n",
       "    </tr>\n",
       "    <tr>\n",
       "      <th>1</th>\n",
       "      <td>Hp</td>\n",
       "      <td>Ultrabook</td>\n",
       "      <td>14</td>\n",
       "      <td>Core i7</td>\n",
       "      <td>1</td>\n",
       "      <td>4</td>\n",
       "      <td>500 HDD</td>\n",
       "      <td>Intel</td>\n",
       "      <td>Windows 10</td>\n",
       "      <td>2.0</td>\n",
       "      <td>1200000.0</td>\n",
       "      <td>500</td>\n",
       "      <td>0</td>\n",
       "    </tr>\n",
       "    <tr>\n",
       "      <th>2</th>\n",
       "      <td>Hp</td>\n",
       "      <td>2 in 1</td>\n",
       "      <td>14</td>\n",
       "      <td>Core i7</td>\n",
       "      <td>8</td>\n",
       "      <td>8</td>\n",
       "      <td>500 SSD</td>\n",
       "      <td>Nvidia</td>\n",
       "      <td>Windows 10</td>\n",
       "      <td>2.0</td>\n",
       "      <td>3800000.0</td>\n",
       "      <td>0</td>\n",
       "      <td>500</td>\n",
       "    </tr>\n",
       "    <tr>\n",
       "      <th>3</th>\n",
       "      <td>Hp</td>\n",
       "      <td>Gaming</td>\n",
       "      <td>15</td>\n",
       "      <td>Core i7</td>\n",
       "      <td>7</td>\n",
       "      <td>16</td>\n",
       "      <td>256 SSD</td>\n",
       "      <td>Intel + Nvidia GTX</td>\n",
       "      <td>Windows 10</td>\n",
       "      <td>4.0</td>\n",
       "      <td>6000000.0</td>\n",
       "      <td>0</td>\n",
       "      <td>256</td>\n",
       "    </tr>\n",
       "    <tr>\n",
       "      <th>4</th>\n",
       "      <td>Acer</td>\n",
       "      <td>Workstation</td>\n",
       "      <td>15</td>\n",
       "      <td>Core i7</td>\n",
       "      <td>3</td>\n",
       "      <td>8</td>\n",
       "      <td>256 SSD</td>\n",
       "      <td>Intel + Nvidia</td>\n",
       "      <td>Windows 10</td>\n",
       "      <td>3.0</td>\n",
       "      <td>2800000.0</td>\n",
       "      <td>0</td>\n",
       "      <td>256</td>\n",
       "    </tr>\n",
       "  </tbody>\n",
       "</table>\n",
       "</div>"
      ],
      "text/plain": [
       "  Company         Type  Inches      CPU  Generation  RAM   Memory  \\\n",
       "0      Hp    Ultrabook      14  Core i5           4    8  500 HDD   \n",
       "1      Hp    Ultrabook      14  Core i7           1    4  500 HDD   \n",
       "2      Hp       2 in 1      14  Core i7           8    8  500 SSD   \n",
       "3      Hp       Gaming      15  Core i7           7   16  256 SSD   \n",
       "4    Acer  Workstation      15  Core i7           3    8  256 SSD   \n",
       "\n",
       "                  GPU          OS  Weight      Price  HDD  SSD  \n",
       "0              Nvidia   Windows 8     2.0  2300000.0  500    0  \n",
       "1               Intel  Windows 10     2.0  1200000.0  500    0  \n",
       "2              Nvidia  Windows 10     2.0  3800000.0    0  500  \n",
       "3  Intel + Nvidia GTX  Windows 10     4.0  6000000.0    0  256  \n",
       "4      Intel + Nvidia  Windows 10     3.0  2800000.0    0  256  "
      ]
     },
     "execution_count": 28,
     "metadata": {},
     "output_type": "execute_result"
    }
   ],
   "source": [
    "df.head()"
   ]
  },
  {
   "cell_type": "code",
   "execution_count": 29,
   "id": "a4a1e92c",
   "metadata": {},
   "outputs": [],
   "source": [
    "df.drop(columns=['Memory'],inplace=True)"
   ]
  },
  {
   "cell_type": "code",
   "execution_count": 30,
   "id": "4621b303",
   "metadata": {},
   "outputs": [
    {
     "data": {
      "text/html": [
       "<div>\n",
       "<style scoped>\n",
       "    .dataframe tbody tr th:only-of-type {\n",
       "        vertical-align: middle;\n",
       "    }\n",
       "\n",
       "    .dataframe tbody tr th {\n",
       "        vertical-align: top;\n",
       "    }\n",
       "\n",
       "    .dataframe thead th {\n",
       "        text-align: right;\n",
       "    }\n",
       "</style>\n",
       "<table border=\"1\" class=\"dataframe\">\n",
       "  <thead>\n",
       "    <tr style=\"text-align: right;\">\n",
       "      <th></th>\n",
       "      <th>Company</th>\n",
       "      <th>Type</th>\n",
       "      <th>Inches</th>\n",
       "      <th>CPU</th>\n",
       "      <th>Generation</th>\n",
       "      <th>RAM</th>\n",
       "      <th>GPU</th>\n",
       "      <th>OS</th>\n",
       "      <th>Weight</th>\n",
       "      <th>Price</th>\n",
       "      <th>HDD</th>\n",
       "      <th>SSD</th>\n",
       "    </tr>\n",
       "  </thead>\n",
       "  <tbody>\n",
       "    <tr>\n",
       "      <th>0</th>\n",
       "      <td>Hp</td>\n",
       "      <td>Ultrabook</td>\n",
       "      <td>14</td>\n",
       "      <td>Core i5</td>\n",
       "      <td>4</td>\n",
       "      <td>8</td>\n",
       "      <td>Nvidia</td>\n",
       "      <td>Windows 8</td>\n",
       "      <td>2.0</td>\n",
       "      <td>2300000.0</td>\n",
       "      <td>500</td>\n",
       "      <td>0</td>\n",
       "    </tr>\n",
       "    <tr>\n",
       "      <th>1</th>\n",
       "      <td>Hp</td>\n",
       "      <td>Ultrabook</td>\n",
       "      <td>14</td>\n",
       "      <td>Core i7</td>\n",
       "      <td>1</td>\n",
       "      <td>4</td>\n",
       "      <td>Intel</td>\n",
       "      <td>Windows 10</td>\n",
       "      <td>2.0</td>\n",
       "      <td>1200000.0</td>\n",
       "      <td>500</td>\n",
       "      <td>0</td>\n",
       "    </tr>\n",
       "    <tr>\n",
       "      <th>2</th>\n",
       "      <td>Hp</td>\n",
       "      <td>2 in 1</td>\n",
       "      <td>14</td>\n",
       "      <td>Core i7</td>\n",
       "      <td>8</td>\n",
       "      <td>8</td>\n",
       "      <td>Nvidia</td>\n",
       "      <td>Windows 10</td>\n",
       "      <td>2.0</td>\n",
       "      <td>3800000.0</td>\n",
       "      <td>0</td>\n",
       "      <td>500</td>\n",
       "    </tr>\n",
       "    <tr>\n",
       "      <th>3</th>\n",
       "      <td>Hp</td>\n",
       "      <td>Gaming</td>\n",
       "      <td>15</td>\n",
       "      <td>Core i7</td>\n",
       "      <td>7</td>\n",
       "      <td>16</td>\n",
       "      <td>Intel + Nvidia GTX</td>\n",
       "      <td>Windows 10</td>\n",
       "      <td>4.0</td>\n",
       "      <td>6000000.0</td>\n",
       "      <td>0</td>\n",
       "      <td>256</td>\n",
       "    </tr>\n",
       "    <tr>\n",
       "      <th>4</th>\n",
       "      <td>Acer</td>\n",
       "      <td>Workstation</td>\n",
       "      <td>15</td>\n",
       "      <td>Core i7</td>\n",
       "      <td>3</td>\n",
       "      <td>8</td>\n",
       "      <td>Intel + Nvidia</td>\n",
       "      <td>Windows 10</td>\n",
       "      <td>3.0</td>\n",
       "      <td>2800000.0</td>\n",
       "      <td>0</td>\n",
       "      <td>256</td>\n",
       "    </tr>\n",
       "  </tbody>\n",
       "</table>\n",
       "</div>"
      ],
      "text/plain": [
       "  Company         Type  Inches      CPU  Generation  RAM                 GPU  \\\n",
       "0      Hp    Ultrabook      14  Core i5           4    8              Nvidia   \n",
       "1      Hp    Ultrabook      14  Core i7           1    4               Intel   \n",
       "2      Hp       2 in 1      14  Core i7           8    8              Nvidia   \n",
       "3      Hp       Gaming      15  Core i7           7   16  Intel + Nvidia GTX   \n",
       "4    Acer  Workstation      15  Core i7           3    8      Intel + Nvidia   \n",
       "\n",
       "           OS  Weight      Price  HDD  SSD  \n",
       "0   Windows 8     2.0  2300000.0  500    0  \n",
       "1  Windows 10     2.0  1200000.0  500    0  \n",
       "2  Windows 10     2.0  3800000.0    0  500  \n",
       "3  Windows 10     4.0  6000000.0    0  256  \n",
       "4  Windows 10     3.0  2800000.0    0  256  "
      ]
     },
     "execution_count": 30,
     "metadata": {},
     "output_type": "execute_result"
    }
   ],
   "source": [
    "df.head()"
   ]
  },
  {
   "cell_type": "code",
   "execution_count": 31,
   "id": "ffa1c009",
   "metadata": {},
   "outputs": [
    {
     "data": {
      "text/plain": [
       "Inches        0.545295\n",
       "Generation    0.708262\n",
       "RAM           0.599767\n",
       "Weight        0.614447\n",
       "Price         1.000000\n",
       "HDD           0.103233\n",
       "SSD           0.615450\n",
       "Name: Price, dtype: float64"
      ]
     },
     "execution_count": 31,
     "metadata": {},
     "output_type": "execute_result"
    }
   ],
   "source": [
    "df.corr()['Price']"
   ]
  },
  {
   "cell_type": "code",
   "execution_count": 32,
   "id": "0fac7ab9",
   "metadata": {},
   "outputs": [
    {
     "data": {
      "text/plain": [
       "Intel                 116\n",
       "Intel + Nvidia         84\n",
       "Intel + Nvidia GTX     41\n",
       "Intel + AMD            15\n",
       "AMD                    15\n",
       "Nvidia                 13\n",
       "Nvidia GTX             12\n",
       "Nvidia RTX              5\n",
       "Name: GPU, dtype: int64"
      ]
     },
     "execution_count": 32,
     "metadata": {},
     "output_type": "execute_result"
    }
   ],
   "source": [
    "df['GPU'].value_counts()"
   ]
  },
  {
   "cell_type": "code",
   "execution_count": 33,
   "id": "27561105",
   "metadata": {},
   "outputs": [
    {
     "data": {
      "image/png": "[encoded data removed]",
      "text/plain": [
       "<Figure size 432x288 with 1 Axes>"
      ]
     },
     "metadata": {
      "needs_background": "light"
     },
     "output_type": "display_data"
    }
   ],
   "source": [
    "sns.barplot(x=df['GPU'],y=df['Price'],estimator=np.median)\n",
    "plt.xticks(rotation='vertical')\n",
    "plt.show()"
   ]
  },
  {
   "cell_type": "code",
   "execution_count": 34,
   "id": "3adf2c18",
   "metadata": {},
   "outputs": [
    {
     "data": {
      "text/plain": [
       "Windows 10    218\n",
       "Windows 11     72\n",
       "Windows 7      10\n",
       "Windows 8       1\n",
       "Name: OS, dtype: int64"
      ]
     },
     "execution_count": 34,
     "metadata": {},
     "output_type": "execute_result"
    }
   ],
   "source": [
    "df['OS'].value_counts()"
   ]
  },
  {
   "cell_type": "code",
   "execution_count": 35,
   "id": "36c6e5da",
   "metadata": {},
   "outputs": [
    {
     "data": {
      "image/png": "[encoded data removed]",
      "text/plain": [
       "<Figure size 432x288 with 1 Axes>"
      ]
     },
     "metadata": {
      "needs_background": "light"
     },
     "output_type": "display_data"
    }
   ],
   "source": [
    "sns.barplot(x=df['OS'],y=df['Price'])\n",
    "plt.xticks(rotation='vertical')\n",
    "plt.show()"
   ]
  },
  {
   "cell_type": "code",
   "execution_count": 36,
   "id": "1ef62d83",
   "metadata": {},
   "outputs": [
    {
     "name": "stderr",
     "output_type": "stream",
     "text": [
      "C:\\Users\\a208\\Anaconda3\\lib\\site-packages\\seaborn\\distributions.py:2619: FutureWarning: `distplot` is a deprecated function and will be removed in a future version. Please adapt your code to use either `displot` (a figure-level function with similar flexibility) or `histplot` (an axes-level function for histograms).\n",
      "  warnings.warn(msg, FutureWarning)\n"
     ]
    },
    {
     "data": {
      "text/plain": [
       "<AxesSubplot:xlabel='Weight', ylabel='Density'>"
      ]
     },
     "execution_count": 36,
     "metadata": {},
     "output_type": "execute_result"
    },
    {
     "data": {
      "image/png": "[encoded data removed]",
      "text/plain": [
       "<Figure size 432x288 with 1 Axes>"
      ]
     },
     "metadata": {
      "needs_background": "light"
     },
     "output_type": "display_data"
    }
   ],
   "source": [
    "sns.distplot(df['Weight'])"
   ]
  },
  {
   "cell_type": "code",
   "execution_count": 37,
   "id": "b7b048a6",
   "metadata": {},
   "outputs": [
    {
     "data": {
      "text/plain": [
       "<AxesSubplot:xlabel='Weight', ylabel='Price'>"
      ]
     },
     "execution_count": 37,
     "metadata": {},
     "output_type": "execute_result"
    },
    {
     "data": {
      "image/png": "[encoded data removed]",
      "text/plain": [
       "<Figure size 432x288 with 1 Axes>"
      ]
     },
     "metadata": {
      "needs_background": "light"
     },
     "output_type": "display_data"
    }
   ],
   "source": [
    "sns.scatterplot(x=df['Weight'],y=df['Price'])"
   ]
  },
  {
   "cell_type": "code",
   "execution_count": 38,
   "id": "08445fec",
   "metadata": {},
   "outputs": [
    {
     "data": {
      "text/plain": [
       "Inches        0.545295\n",
       "Generation    0.708262\n",
       "RAM           0.599767\n",
       "Weight        0.614447\n",
       "Price         1.000000\n",
       "HDD           0.103233\n",
       "SSD           0.615450\n",
       "Name: Price, dtype: float64"
      ]
     },
     "execution_count": 38,
     "metadata": {},
     "output_type": "execute_result"
    }
   ],
   "source": [
    "df.corr()['Price']"
   ]
  },
  {
   "cell_type": "code",
   "execution_count": 39,
   "id": "9d5d0d83",
   "metadata": {},
   "outputs": [
    {
     "name": "stdout",
     "output_type": "stream",
     "text": [
      "<class 'pandas.core.frame.DataFrame'>\n",
      "RangeIndex: 301 entries, 0 to 300\n",
      "Data columns (total 12 columns):\n",
      " #   Column      Non-Null Count  Dtype  \n",
      "---  ------      --------------  -----  \n",
      " 0   Company     301 non-null    object \n",
      " 1   Type        301 non-null    object \n",
      " 2   Inches      301 non-null    int64  \n",
      " 3   CPU         301 non-null    object \n",
      " 4   Generation  301 non-null    int64  \n",
      " 5   RAM         301 non-null    int32  \n",
      " 6   GPU         301 non-null    object \n",
      " 7   OS          301 non-null    object \n",
      " 8   Weight      301 non-null    float32\n",
      " 9   Price       301 non-null    float32\n",
      " 10  HDD         301 non-null    int64  \n",
      " 11  SSD         301 non-null    int64  \n",
      "dtypes: float32(2), int32(1), int64(4), object(5)\n",
      "memory usage: 24.8+ KB\n"
     ]
    }
   ],
   "source": [
    "df.info()"
   ]
  },
  {
   "cell_type": "code",
   "execution_count": 40,
   "id": "e38c154f",
   "metadata": {},
   "outputs": [
    {
     "data": {
      "text/plain": [
       "<AxesSubplot:>"
      ]
     },
     "execution_count": 40,
     "metadata": {},
     "output_type": "execute_result"
    },
    {
     "data": {
      "image/png": "[encoded data removed]",
      "text/plain": [
       "<Figure size 432x288 with 2 Axes>"
      ]
     },
     "metadata": {
      "needs_background": "light"
     },
     "output_type": "display_data"
    }
   ],
   "source": [
    "sns.heatmap(df.corr(), annot=True)"
   ]
  },
  {
   "cell_type": "code",
   "execution_count": 41,
   "id": "296d23b3",
   "metadata": {},
   "outputs": [
    {
     "name": "stderr",
     "output_type": "stream",
     "text": [
      "C:\\Users\\a208\\Anaconda3\\lib\\site-packages\\seaborn\\distributions.py:2619: FutureWarning: `distplot` is a deprecated function and will be removed in a future version. Please adapt your code to use either `displot` (a figure-level function with similar flexibility) or `histplot` (an axes-level function for histograms).\n",
      "  warnings.warn(msg, FutureWarning)\n"
     ]
    },
    {
     "data": {
      "text/plain": [
       "<AxesSubplot:xlabel='Price', ylabel='Density'>"
      ]
     },
     "execution_count": 41,
     "metadata": {},
     "output_type": "execute_result"
    },
    {
     "data": {
      "image/png": "[encoded data removed]",
      "text/plain": [
       "<Figure size 432x288 with 1 Axes>"
      ]
     },
     "metadata": {
      "needs_background": "light"
     },
     "output_type": "display_data"
    }
   ],
   "source": [
    "sns.distplot(np.log(df['Price']))"
   ]
  },
  {
   "cell_type": "code",
   "execution_count": 42,
   "id": "70d12199",
   "metadata": {},
   "outputs": [],
   "source": [
    "X = df.drop(columns=['Price'])\n",
    "y = np.log(df['Price'])"
   ]
  },
  {
   "cell_type": "code",
   "execution_count": 43,
   "id": "16387d39",
   "metadata": {
    "scrolled": false
   },
   "outputs": [
    {
     "data": {
      "text/html": [
       "<div>\n",
       "<style scoped>\n",
       "    .dataframe tbody tr th:only-of-type {\n",
       "        vertical-align: middle;\n",
       "    }\n",
       "\n",
       "    .dataframe tbody tr th {\n",
       "        vertical-align: top;\n",
       "    }\n",
       "\n",
       "    .dataframe thead th {\n",
       "        text-align: right;\n",
       "    }\n",
       "</style>\n",
       "<table border=\"1\" class=\"dataframe\">\n",
       "  <thead>\n",
       "    <tr style=\"text-align: right;\">\n",
       "      <th></th>\n",
       "      <th>Company</th>\n",
       "      <th>Type</th>\n",
       "      <th>Inches</th>\n",
       "      <th>CPU</th>\n",
       "      <th>Generation</th>\n",
       "      <th>RAM</th>\n",
       "      <th>GPU</th>\n",
       "      <th>OS</th>\n",
       "      <th>Weight</th>\n",
       "      <th>HDD</th>\n",
       "      <th>SSD</th>\n",
       "    </tr>\n",
       "  </thead>\n",
       "  <tbody>\n",
       "    <tr>\n",
       "      <th>0</th>\n",
       "      <td>Hp</td>\n",
       "      <td>Ultrabook</td>\n",
       "      <td>14</td>\n",
       "      <td>Core i5</td>\n",
       "      <td>4</td>\n",
       "      <td>8</td>\n",
       "      <td>Nvidia</td>\n",
       "      <td>Windows 8</td>\n",
       "      <td>2.0</td>\n",
       "      <td>500</td>\n",
       "      <td>0</td>\n",
       "    </tr>\n",
       "    <tr>\n",
       "      <th>1</th>\n",
       "      <td>Hp</td>\n",
       "      <td>Ultrabook</td>\n",
       "      <td>14</td>\n",
       "      <td>Core i7</td>\n",
       "      <td>1</td>\n",
       "      <td>4</td>\n",
       "      <td>Intel</td>\n",
       "      <td>Windows 10</td>\n",
       "      <td>2.0</td>\n",
       "      <td>500</td>\n",
       "      <td>0</td>\n",
       "    </tr>\n",
       "    <tr>\n",
       "      <th>2</th>\n",
       "      <td>Hp</td>\n",
       "      <td>2 in 1</td>\n",
       "      <td>14</td>\n",
       "      <td>Core i7</td>\n",
       "      <td>8</td>\n",
       "      <td>8</td>\n",
       "      <td>Nvidia</td>\n",
       "      <td>Windows 10</td>\n",
       "      <td>2.0</td>\n",
       "      <td>0</td>\n",
       "      <td>500</td>\n",
       "    </tr>\n",
       "    <tr>\n",
       "      <th>3</th>\n",
       "      <td>Hp</td>\n",
       "      <td>Gaming</td>\n",
       "      <td>15</td>\n",
       "      <td>Core i7</td>\n",
       "      <td>7</td>\n",
       "      <td>16</td>\n",
       "      <td>Intel + Nvidia GTX</td>\n",
       "      <td>Windows 10</td>\n",
       "      <td>4.0</td>\n",
       "      <td>0</td>\n",
       "      <td>256</td>\n",
       "    </tr>\n",
       "    <tr>\n",
       "      <th>4</th>\n",
       "      <td>Acer</td>\n",
       "      <td>Workstation</td>\n",
       "      <td>15</td>\n",
       "      <td>Core i7</td>\n",
       "      <td>3</td>\n",
       "      <td>8</td>\n",
       "      <td>Intel + Nvidia</td>\n",
       "      <td>Windows 10</td>\n",
       "      <td>3.0</td>\n",
       "      <td>0</td>\n",
       "      <td>256</td>\n",
       "    </tr>\n",
       "    <tr>\n",
       "      <th>...</th>\n",
       "      <td>...</td>\n",
       "      <td>...</td>\n",
       "      <td>...</td>\n",
       "      <td>...</td>\n",
       "      <td>...</td>\n",
       "      <td>...</td>\n",
       "      <td>...</td>\n",
       "      <td>...</td>\n",
       "      <td>...</td>\n",
       "      <td>...</td>\n",
       "      <td>...</td>\n",
       "    </tr>\n",
       "    <tr>\n",
       "      <th>296</th>\n",
       "      <td>Thinkpad</td>\n",
       "      <td>Workstation</td>\n",
       "      <td>14</td>\n",
       "      <td>Core i5</td>\n",
       "      <td>8</td>\n",
       "      <td>8</td>\n",
       "      <td>Intel</td>\n",
       "      <td>Windows 11</td>\n",
       "      <td>2.0</td>\n",
       "      <td>0</td>\n",
       "      <td>256</td>\n",
       "    </tr>\n",
       "    <tr>\n",
       "      <th>297</th>\n",
       "      <td>Asus</td>\n",
       "      <td>Ultrabook</td>\n",
       "      <td>14</td>\n",
       "      <td>Core i7</td>\n",
       "      <td>8</td>\n",
       "      <td>8</td>\n",
       "      <td>Intel</td>\n",
       "      <td>Windows 11</td>\n",
       "      <td>2.0</td>\n",
       "      <td>0</td>\n",
       "      <td>256</td>\n",
       "    </tr>\n",
       "    <tr>\n",
       "      <th>298</th>\n",
       "      <td>Asus</td>\n",
       "      <td>Workstation</td>\n",
       "      <td>14</td>\n",
       "      <td>Core i5</td>\n",
       "      <td>8</td>\n",
       "      <td>8</td>\n",
       "      <td>Intel + Nvidia</td>\n",
       "      <td>Windows 11</td>\n",
       "      <td>2.0</td>\n",
       "      <td>0</td>\n",
       "      <td>256</td>\n",
       "    </tr>\n",
       "    <tr>\n",
       "      <th>299</th>\n",
       "      <td>Lenovo</td>\n",
       "      <td>Gaming</td>\n",
       "      <td>14</td>\n",
       "      <td>Core i7</td>\n",
       "      <td>4</td>\n",
       "      <td>8</td>\n",
       "      <td>Intel + Nvidia GTX</td>\n",
       "      <td>Windows 10</td>\n",
       "      <td>2.0</td>\n",
       "      <td>0</td>\n",
       "      <td>256</td>\n",
       "    </tr>\n",
       "    <tr>\n",
       "      <th>300</th>\n",
       "      <td>Lenovo</td>\n",
       "      <td>Gaming</td>\n",
       "      <td>14</td>\n",
       "      <td>Core i7</td>\n",
       "      <td>7</td>\n",
       "      <td>8</td>\n",
       "      <td>Intel + Nvidia GTX</td>\n",
       "      <td>Windows 10</td>\n",
       "      <td>3.0</td>\n",
       "      <td>0</td>\n",
       "      <td>256</td>\n",
       "    </tr>\n",
       "  </tbody>\n",
       "</table>\n",
       "<p>301 rows × 11 columns</p>\n",
       "</div>"
      ],
      "text/plain": [
       "      Company         Type  Inches      CPU  Generation  RAM  \\\n",
       "0          Hp    Ultrabook      14  Core i5           4    8   \n",
       "1          Hp    Ultrabook      14  Core i7           1    4   \n",
       "2          Hp       2 in 1      14  Core i7           8    8   \n",
       "3          Hp       Gaming      15  Core i7           7   16   \n",
       "4        Acer  Workstation      15  Core i7           3    8   \n",
       "..        ...          ...     ...      ...         ...  ...   \n",
       "296  Thinkpad  Workstation      14  Core i5           8    8   \n",
       "297      Asus    Ultrabook      14  Core i7           8    8   \n",
       "298      Asus  Workstation      14  Core i5           8    8   \n",
       "299    Lenovo       Gaming      14  Core i7           4    8   \n",
       "300    Lenovo       Gaming      14  Core i7           7    8   \n",
       "\n",
       "                    GPU          OS  Weight  HDD  SSD  \n",
       "0                Nvidia   Windows 8     2.0  500    0  \n",
       "1                 Intel  Windows 10     2.0  500    0  \n",
       "2                Nvidia  Windows 10     2.0    0  500  \n",
       "3    Intel + Nvidia GTX  Windows 10     4.0    0  256  \n",
       "4        Intel + Nvidia  Windows 10     3.0    0  256  \n",
       "..                  ...         ...     ...  ...  ...  \n",
       "296               Intel  Windows 11     2.0    0  256  \n",
       "297               Intel  Windows 11     2.0    0  256  \n",
       "298      Intel + Nvidia  Windows 11     2.0    0  256  \n",
       "299  Intel + Nvidia GTX  Windows 10     2.0    0  256  \n",
       "300  Intel + Nvidia GTX  Windows 10     3.0    0  256  \n",
       "\n",
       "[301 rows x 11 columns]"
      ]
     },
     "execution_count": 43,
     "metadata": {},
     "output_type": "execute_result"
    }
   ],
   "source": [
    "X"
   ]
  },
  {
   "cell_type": "code",
   "execution_count": 44,
   "id": "fc0fa1c0",
   "metadata": {},
   "outputs": [
    {
     "data": {
      "text/plain": [
       "0      14.648419\n",
       "1      13.997832\n",
       "2      15.150512\n",
       "3      15.607270\n",
       "4      14.845130\n",
       "         ...    \n",
       "296    14.994165\n",
       "297    15.238619\n",
       "298    15.319588\n",
       "299    15.201805\n",
       "300    15.573368\n",
       "Name: Price, Length: 301, dtype: float32"
      ]
     },
     "execution_count": 44,
     "metadata": {},
     "output_type": "execute_result"
    }
   ],
   "source": [
    "y"
   ]
  },
  {
   "cell_type": "markdown",
   "id": "e034a13f",
   "metadata": {},
   "source": [
    "# MODELLING"
   ]
  },
  {
   "cell_type": "code",
   "execution_count": 46,
   "id": "ef098a55",
   "metadata": {},
   "outputs": [],
   "source": [
    "from sklearn.model_selection import train_test_split\n",
    "X_train,X_test,y_train,y_test = train_test_split(X,y,test_size=0.2,random_state=5)"
   ]
  },
  {
   "cell_type": "code",
   "execution_count": 47,
   "id": "88747436",
   "metadata": {},
   "outputs": [
    {
     "data": {
      "text/html": [
       "<div>\n",
       "<style scoped>\n",
       "    .dataframe tbody tr th:only-of-type {\n",
       "        vertical-align: middle;\n",
       "    }\n",
       "\n",
       "    .dataframe tbody tr th {\n",
       "        vertical-align: top;\n",
       "    }\n",
       "\n",
       "    .dataframe thead th {\n",
       "        text-align: right;\n",
       "    }\n",
       "</style>\n",
       "<table border=\"1\" class=\"dataframe\">\n",
       "  <thead>\n",
       "    <tr style=\"text-align: right;\">\n",
       "      <th></th>\n",
       "      <th>Company</th>\n",
       "      <th>Type</th>\n",
       "      <th>Inches</th>\n",
       "      <th>CPU</th>\n",
       "      <th>Generation</th>\n",
       "      <th>RAM</th>\n",
       "      <th>GPU</th>\n",
       "      <th>OS</th>\n",
       "      <th>Weight</th>\n",
       "      <th>HDD</th>\n",
       "      <th>SSD</th>\n",
       "    </tr>\n",
       "  </thead>\n",
       "  <tbody>\n",
       "    <tr>\n",
       "      <th>273</th>\n",
       "      <td>Dell</td>\n",
       "      <td>Ultrabook</td>\n",
       "      <td>14</td>\n",
       "      <td>Core i7</td>\n",
       "      <td>8</td>\n",
       "      <td>8</td>\n",
       "      <td>Intel + AMD</td>\n",
       "      <td>Windows 10</td>\n",
       "      <td>2.0</td>\n",
       "      <td>0</td>\n",
       "      <td>256</td>\n",
       "    </tr>\n",
       "    <tr>\n",
       "      <th>260</th>\n",
       "      <td>Hp</td>\n",
       "      <td>Workstation</td>\n",
       "      <td>14</td>\n",
       "      <td>Core i5</td>\n",
       "      <td>2</td>\n",
       "      <td>8</td>\n",
       "      <td>AMD</td>\n",
       "      <td>Windows 10</td>\n",
       "      <td>2.0</td>\n",
       "      <td>750</td>\n",
       "      <td>0</td>\n",
       "    </tr>\n",
       "    <tr>\n",
       "      <th>211</th>\n",
       "      <td>Acer</td>\n",
       "      <td>Ultrabook</td>\n",
       "      <td>15</td>\n",
       "      <td>Core i5</td>\n",
       "      <td>11</td>\n",
       "      <td>8</td>\n",
       "      <td>Intel</td>\n",
       "      <td>Windows 10</td>\n",
       "      <td>2.0</td>\n",
       "      <td>500</td>\n",
       "      <td>0</td>\n",
       "    </tr>\n",
       "    <tr>\n",
       "      <th>134</th>\n",
       "      <td>Lenovo</td>\n",
       "      <td>Ultrabook</td>\n",
       "      <td>14</td>\n",
       "      <td>Core i5</td>\n",
       "      <td>8</td>\n",
       "      <td>8</td>\n",
       "      <td>Intel + Nvidia</td>\n",
       "      <td>Windows 11</td>\n",
       "      <td>2.0</td>\n",
       "      <td>0</td>\n",
       "      <td>512</td>\n",
       "    </tr>\n",
       "    <tr>\n",
       "      <th>11</th>\n",
       "      <td>Acer</td>\n",
       "      <td>Ultrabook</td>\n",
       "      <td>15</td>\n",
       "      <td>Core i5</td>\n",
       "      <td>6</td>\n",
       "      <td>8</td>\n",
       "      <td>Nvidia</td>\n",
       "      <td>Windows 10</td>\n",
       "      <td>2.0</td>\n",
       "      <td>1000</td>\n",
       "      <td>0</td>\n",
       "    </tr>\n",
       "    <tr>\n",
       "      <th>...</th>\n",
       "      <td>...</td>\n",
       "      <td>...</td>\n",
       "      <td>...</td>\n",
       "      <td>...</td>\n",
       "      <td>...</td>\n",
       "      <td>...</td>\n",
       "      <td>...</td>\n",
       "      <td>...</td>\n",
       "      <td>...</td>\n",
       "      <td>...</td>\n",
       "      <td>...</td>\n",
       "    </tr>\n",
       "    <tr>\n",
       "      <th>8</th>\n",
       "      <td>Lenovo</td>\n",
       "      <td>2 in 1</td>\n",
       "      <td>14</td>\n",
       "      <td>Core i7</td>\n",
       "      <td>5</td>\n",
       "      <td>4</td>\n",
       "      <td>Intel + Nvidia</td>\n",
       "      <td>Windows 10</td>\n",
       "      <td>2.0</td>\n",
       "      <td>500</td>\n",
       "      <td>0</td>\n",
       "    </tr>\n",
       "    <tr>\n",
       "      <th>73</th>\n",
       "      <td>Asus</td>\n",
       "      <td>Ultrabook</td>\n",
       "      <td>15</td>\n",
       "      <td>Core i7</td>\n",
       "      <td>2</td>\n",
       "      <td>8</td>\n",
       "      <td>Intel + Nvidia</td>\n",
       "      <td>Windows 7</td>\n",
       "      <td>2.0</td>\n",
       "      <td>0</td>\n",
       "      <td>128</td>\n",
       "    </tr>\n",
       "    <tr>\n",
       "      <th>118</th>\n",
       "      <td>Hp</td>\n",
       "      <td>Gaming</td>\n",
       "      <td>15</td>\n",
       "      <td>Core i7</td>\n",
       "      <td>7</td>\n",
       "      <td>16</td>\n",
       "      <td>Nvidia GTX</td>\n",
       "      <td>Windows 10</td>\n",
       "      <td>3.0</td>\n",
       "      <td>1000</td>\n",
       "      <td>0</td>\n",
       "    </tr>\n",
       "    <tr>\n",
       "      <th>189</th>\n",
       "      <td>Thinkpad</td>\n",
       "      <td>Workstation</td>\n",
       "      <td>14</td>\n",
       "      <td>Core i5</td>\n",
       "      <td>6</td>\n",
       "      <td>4</td>\n",
       "      <td>Intel</td>\n",
       "      <td>Windows 11</td>\n",
       "      <td>2.0</td>\n",
       "      <td>0</td>\n",
       "      <td>256</td>\n",
       "    </tr>\n",
       "    <tr>\n",
       "      <th>206</th>\n",
       "      <td>Asus</td>\n",
       "      <td>Gaming</td>\n",
       "      <td>14</td>\n",
       "      <td>Core i7</td>\n",
       "      <td>7</td>\n",
       "      <td>8</td>\n",
       "      <td>Intel + Nvidia GTX</td>\n",
       "      <td>Windows 11</td>\n",
       "      <td>2.0</td>\n",
       "      <td>0</td>\n",
       "      <td>256</td>\n",
       "    </tr>\n",
       "  </tbody>\n",
       "</table>\n",
       "<p>240 rows × 11 columns</p>\n",
       "</div>"
      ],
      "text/plain": [
       "      Company         Type  Inches      CPU  Generation  RAM  \\\n",
       "273      Dell    Ultrabook      14  Core i7           8    8   \n",
       "260        Hp  Workstation      14  Core i5           2    8   \n",
       "211      Acer    Ultrabook      15  Core i5          11    8   \n",
       "134    Lenovo    Ultrabook      14  Core i5           8    8   \n",
       "11       Acer    Ultrabook      15  Core i5           6    8   \n",
       "..        ...          ...     ...      ...         ...  ...   \n",
       "8      Lenovo       2 in 1      14  Core i7           5    4   \n",
       "73       Asus    Ultrabook      15  Core i7           2    8   \n",
       "118        Hp       Gaming      15  Core i7           7   16   \n",
       "189  Thinkpad  Workstation      14  Core i5           6    4   \n",
       "206      Asus       Gaming      14  Core i7           7    8   \n",
       "\n",
       "                    GPU          OS  Weight   HDD  SSD  \n",
       "273         Intel + AMD  Windows 10     2.0     0  256  \n",
       "260                 AMD  Windows 10     2.0   750    0  \n",
       "211               Intel  Windows 10     2.0   500    0  \n",
       "134      Intel + Nvidia  Windows 11     2.0     0  512  \n",
       "11               Nvidia  Windows 10     2.0  1000    0  \n",
       "..                  ...         ...     ...   ...  ...  \n",
       "8        Intel + Nvidia  Windows 10     2.0   500    0  \n",
       "73       Intel + Nvidia   Windows 7     2.0     0  128  \n",
       "118          Nvidia GTX  Windows 10     3.0  1000    0  \n",
       "189               Intel  Windows 11     2.0     0  256  \n",
       "206  Intel + Nvidia GTX  Windows 11     2.0     0  256  \n",
       "\n",
       "[240 rows x 11 columns]"
      ]
     },
     "execution_count": 47,
     "metadata": {},
     "output_type": "execute_result"
    }
   ],
   "source": [
    "X_train"
   ]
  },
  {
   "cell_type": "code",
   "execution_count": 48,
   "id": "1a5bbe15",
   "metadata": {},
   "outputs": [],
   "source": [
    "# IMPORT LIBRARY ALGORITHM & METRICS"
   ]
  },
  {
   "cell_type": "code",
   "execution_count": 49,
   "id": "0987ac9b",
   "metadata": {},
   "outputs": [],
   "source": [
    "from sklearn.compose import ColumnTransformer\n",
    "from sklearn.pipeline import Pipeline\n",
    "from sklearn.preprocessing import OneHotEncoder\n",
    "from sklearn.metrics import r2_score,mean_absolute_error, mean_squared_error"
   ]
  },
  {
   "cell_type": "code",
   "execution_count": 50,
   "id": "f7e87843",
   "metadata": {},
   "outputs": [],
   "source": [
    "from sklearn.linear_model import LinearRegression"
   ]
  },
  {
   "cell_type": "code",
   "execution_count": 51,
   "id": "a8a062d4",
   "metadata": {},
   "outputs": [],
   "source": [
    "# LINEAR REG"
   ]
  },
  {
   "cell_type": "code",
   "execution_count": 52,
   "id": "6c8659c4",
   "metadata": {},
   "outputs": [
    {
     "name": "stdout",
     "output_type": "stream",
     "text": [
      "R2 score 0.9477703199477193\n",
      "MAE 0.10384824962997781\n",
      "RMSE 0.1313983509625988\n"
     ]
    }
   ],
   "source": [
    "step1 = ColumnTransformer(transformers=[\n",
    "    ('col_tnf',OneHotEncoder(sparse=False,drop='first'),[0,1,3,6,7])\n",
    "],remainder='passthrough')\n",
    "\n",
    "step2 = LinearRegression()\n",
    "\n",
    "pipe = Pipeline([\n",
    "    ('step1',step1),\n",
    "    ('step2',step2)\n",
    "])\n",
    "\n",
    "pipe.fit(X_train,y_train)\n",
    "\n",
    "y_pred = pipe.predict(X_test)\n",
    "\n",
    "print('R2 score',r2_score(y_test,y_pred))\n",
    "print('MAE',mean_absolute_error(y_test,y_pred))\n",
    "print('RMSE', mean_squared_error(y_test, y_pred, squared=False))"
   ]
  },
  {
   "cell_type": "code",
   "execution_count": 53,
   "id": "369b9475",
   "metadata": {},
   "outputs": [
    {
     "data": {
      "text/plain": [
       "<matplotlib.collections.PathCollection at 0x1f1bb8ffeb0>"
      ]
     },
     "execution_count": 53,
     "metadata": {},
     "output_type": "execute_result"
    },
    {
     "data": {
      "image/png": "[encoded data removed]",
      "text/plain": [
       "<Figure size 432x288 with 1 Axes>"
      ]
     },
     "metadata": {
      "needs_background": "light"
     },
     "output_type": "display_data"
    }
   ],
   "source": [
    "plt.xlabel(\"Actual\")\n",
    "plt.ylabel(\"Predicted\")\n",
    "plt.plot(range(14,18), range(14,18), color=\"red\")\n",
    "plt.scatter(y_test, y_pred)"
   ]
  },
  {
   "cell_type": "markdown",
   "id": "7199edfa",
   "metadata": {},
   "source": [
    "# SAVE MODEL"
   ]
  },
  {
   "cell_type": "code",
   "execution_count": 55,
   "id": "dd80d86b",
   "metadata": {},
   "outputs": [],
   "source": [
    "import pickle\n",
    "\n",
    "with open('predict_price', 'wb') as r :\n",
    "    pickle.dump(pipe, r)"
   ]
  },
  {
   "cell_type": "code",
   "execution_count": null,
   "id": "70f025e9",
   "metadata": {},
   "outputs": [],
   "source": []
  }
 ],
 "metadata": {
  "kernelspec": {
   "display_name": "Python 3 (ipykernel)",
   "language": "python",
   "name": "python3"
  },
  "language_info": {
   "codemirror_mode": {
    "name": "ipython",
    "version": 3
   },
   "file_extension": ".py",
   "mimetype": "text/x-python",
   "name": "python",
   "nbconvert_exporter": "python",
   "pygments_lexer": "ipython3",
   "version": "3.9.7"
  }
 },
 "nbformat": 4,
 "nbformat_minor": 5
}
